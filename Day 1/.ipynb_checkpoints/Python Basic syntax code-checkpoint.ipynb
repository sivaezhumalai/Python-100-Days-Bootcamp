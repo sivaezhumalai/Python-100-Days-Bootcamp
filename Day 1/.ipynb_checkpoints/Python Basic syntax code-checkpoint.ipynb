{
 "cells": [
  {
   "cell_type": "markdown",
   "id": "f79ba72d24a40886",
   "metadata": {},
   "source": [
    "# Print Statement\n",
    "\n",
    "Prints a string into the console."
   ]
  },
  {
   "cell_type": "code",
   "execution_count": 20,
   "id": "8420b974236513e6",
   "metadata": {
    "ExecuteTime": {
     "end_time": "2025-02-25T15:35:19.093603Z",
     "start_time": "2025-02-25T15:35:19.089641Z"
    }
   },
   "outputs": [
    {
     "name": "stdout",
     "output_type": "stream",
     "text": [
      "Hello siva!\n"
     ]
    }
   ],
   "source": [
    "print(\"Hello siva!\")"
   ]
  },
  {
   "cell_type": "markdown",
   "id": "11acfbd0e323ecee",
   "metadata": {},
   "source": [
    "# Input Statement\n",
    "\n",
    "Prints a string into the console, and asks the user for a string input."
   ]
  },
  {
   "cell_type": "code",
   "execution_count": 21,
   "id": "ebb74dcefd689fea",
   "metadata": {
    "ExecuteTime": {
     "end_time": "2025-02-25T15:35:23.320958Z",
     "start_time": "2025-02-25T15:35:19.113965Z"
    }
   },
   "outputs": [
    {
     "data": {
      "text/plain": [
       "'siva'"
      ]
     },
     "execution_count": 21,
     "metadata": {},
     "output_type": "execute_result"
    }
   ],
   "source": [
    "input(\"Hey Hi, Please enter your name: \")"
   ]
  },
  {
   "cell_type": "markdown",
   "id": "6a38be7526e3936c",
   "metadata": {},
   "source": [
    "# Comments Statement\n",
    "\n",
    "Adding a # symbol in font of text lets you make comments on a line of code. The computer will ignore your comments."
   ]
  },
  {
   "cell_type": "code",
   "execution_count": 22,
   "id": "ccec5a2d21b70824",
   "metadata": {
    "ExecuteTime": {
     "end_time": "2025-02-25T15:35:23.353840Z",
     "start_time": "2025-02-25T15:35:23.348785Z"
    }
   },
   "outputs": [
    {
     "name": "stdout",
     "output_type": "stream",
     "text": [
      "This is for comment statement\n"
     ]
    }
   ],
   "source": [
    "# This is a comment statement\n",
    "\n",
    "print(\"This is for comment statement\")"
   ]
  },
  {
   "cell_type": "markdown",
   "id": "e26849ae2c8fd2ac",
   "metadata": {},
   "source": [
    "# Variables\n",
    "\n",
    "Variables are used to store data values. A variable is created the moment you first assign a value to it."
   ]
  },
  {
   "cell_type": "code",
   "execution_count": 23,
   "id": "973cab964ccaf5c4",
   "metadata": {
    "ExecuteTime": {
     "end_time": "2025-02-25T15:35:23.415328Z",
     "start_time": "2025-02-25T15:35:23.412059Z"
    }
   },
   "outputs": [
    {
     "name": "stdout",
     "output_type": "stream",
     "text": [
      "5\n",
      "siva\n"
     ]
    }
   ],
   "source": [
    "x = 5\n",
    "y = \"siva\"\n",
    "print(x)\n",
    "print(y)"
   ]
  },
  {
   "cell_type": "markdown",
   "id": "e104a21dc356a51f",
   "metadata": {},
   "source": [
    "# The += Operator\n",
    "\n",
    "The += operator is used to add a value to a variable."
   ]
  },
  {
   "cell_type": "code",
   "execution_count": 24,
   "id": "7eee669da1774f30",
   "metadata": {
    "ExecuteTime": {
     "end_time": "2025-02-25T15:35:23.444386Z",
     "start_time": "2025-02-25T15:35:23.440426Z"
    }
   },
   "outputs": [
    {
     "name": "stdout",
     "output_type": "stream",
     "text": [
      "My age is:  30\n"
     ]
    }
   ],
   "source": [
    "myAge = 25\n",
    "myAge += 5\n",
    "print(\"My age is: \", myAge)"
   ]
  },
  {
   "cell_type": "markdown",
   "id": "66a27e3547abc7af",
   "metadata": {},
   "source": [
    "# Data Types\n",
    "\n",
    "Variables can store data of different types, and different types can do different things."
   ]
  },
  {
   "cell_type": "code",
   "execution_count": null,
   "id": "77b02f0a-ec75-4584-9f7d-11382d8e70a5",
   "metadata": {
    "ExecuteTime": {
     "end_time": "2025-02-25T15:35:23.468549Z",
     "start_time": "2025-02-25T15:35:23.462516Z"
    }
   },
   "outputs": [],
   "source": [
    "# String\n",
    "name = \"Siva\"\n",
    "print(type(name))\n",
    "\n",
    "# Integer\n",
    "age = 25\n",
    "print(type(age))\n",
    "\n",
    "# Float\n",
    "height = 5.10\n",
    "print(type(height))\n",
    "\n",
    "# Boolean\n",
    "isMale = True\n",
    "print(type(isMale))\n",
    "\n",
    "# List\n",
    "fruits = [\"apple\", \"banana\", \"orange\"]\n",
    "print(type(fruits))\n",
    "\n",
    "# Tuple\n",
    "colors = (\"red\", \"blue\", \"green\")\n",
    "print(type(colors))\n",
    "\n",
    "# Dictionary\n",
    "profile = {\"name\": \"siva\", \"age\": 22, \"gender\": \"male\"}\n",
    "print(type(profile))\n",
    "\n",
    "# Set\n",
    "languages = {\"english\", \"tamil\", \"telugu\"}\n",
    "print(type(languages))\n",
    "\n",
    "# None\n",
    "empty = None\n",
    "print(type(empty))\n"
   ]
  },
  {
   "cell_type": "markdown",
   "id": "496d5dcf-d41f-4ce8-b9d8-8c5b6dfc3f4e",
   "metadata": {},
   "source": [
    "# Length"
   ]
  },
  {
   "cell_type": "code",
   "execution_count": 2,
   "id": "48f1d77b-07bb-44e1-b655-704b7ef07077",
   "metadata": {},
   "outputs": [
    {
     "name": "stdin",
     "output_type": "stream",
     "text": [
      "Enter your name:  siva\n"
     ]
    },
    {
     "name": "stdout",
     "output_type": "stream",
     "text": [
      "4\n"
     ]
    }
   ],
   "source": [
    "yourName = input(\"Enter your name: \")\n",
    "nameLen = len(yourName)\n",
    "\n",
    "print(nameLen)"
   ]
  },
  {
   "cell_type": "code",
   "execution_count": null,
   "id": "289536a8-244f-48ca-9ea8-ba68386c54d5",
   "metadata": {},
   "outputs": [],
   "source": []
  }
 ],
 "metadata": {
  "kernelspec": {
   "display_name": "Python 3 (ipykernel)",
   "language": "python",
   "name": "python3"
  },
  "language_info": {
   "codemirror_mode": {
    "name": "ipython",
    "version": 3
   },
   "file_extension": ".py",
   "mimetype": "text/x-python",
   "name": "python",
   "nbconvert_exporter": "python",
   "pygments_lexer": "ipython3",
   "version": "3.12.7"
  }
 },
 "nbformat": 4,
 "nbformat_minor": 5
}
